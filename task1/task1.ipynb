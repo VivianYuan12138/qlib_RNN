{
 "cells": [
  {
   "cell_type": "markdown",
   "metadata": {},
   "source": [
    "# task1"
   ]
  },
  {
   "cell_type": "markdown",
   "metadata": {},
   "source": [
    "**初始化**\n",
    "\n",
    "在cmd命令行完成\n",
    "python scripts/get_data.py qlib_data --target_dir ~/.qlib/qlib_data/cn_data --region cn"
   ]
  },
  {
   "cell_type": "code",
   "execution_count": 9,
   "metadata": {},
   "outputs": [],
   "source": [
    "#导入相关库\n",
    "import qlib\n",
    "from qlib.data import D\n",
    "from qlib.data.filter import NameDFilter\n",
    "from qlib.data.filter import ExpressionDFilter"
   ]
  },
  {
   "cell_type": "code",
   "execution_count": 10,
   "metadata": {},
   "outputs": [
    {
     "data": {
      "text/html": [
       "<div>\n",
       "<style scoped>\n",
       "    .dataframe tbody tr th:only-of-type {\n",
       "        vertical-align: middle;\n",
       "    }\n",
       "\n",
       "    .dataframe tbody tr th {\n",
       "        vertical-align: top;\n",
       "    }\n",
       "\n",
       "    .dataframe thead th {\n",
       "        text-align: right;\n",
       "    }\n",
       "</style>\n",
       "<table border=\"1\" class=\"dataframe\">\n",
       "  <thead>\n",
       "    <tr style=\"text-align: right;\">\n",
       "      <th></th>\n",
       "      <th></th>\n",
       "      <th>$close</th>\n",
       "      <th>$volume</th>\n",
       "      <th>Ref($close, 1)</th>\n",
       "      <th>Mean($close, 3)</th>\n",
       "      <th>$high-$low</th>\n",
       "    </tr>\n",
       "    <tr>\n",
       "      <th>instrument</th>\n",
       "      <th>datetime</th>\n",
       "      <th></th>\n",
       "      <th></th>\n",
       "      <th></th>\n",
       "      <th></th>\n",
       "      <th></th>\n",
       "    </tr>\n",
       "  </thead>\n",
       "  <tbody>\n",
       "    <tr>\n",
       "      <th rowspan=\"5\" valign=\"top\">SH600655</th>\n",
       "      <th>2010-01-04</th>\n",
       "      <td>11.220483</td>\n",
       "      <td>38060176.0</td>\n",
       "      <td>10.885898</td>\n",
       "      <td>10.915109</td>\n",
       "      <td>0.517807</td>\n",
       "    </tr>\n",
       "    <tr>\n",
       "      <th>2010-01-08</th>\n",
       "      <td>10.858016</td>\n",
       "      <td>18646274.0</td>\n",
       "      <td>10.742505</td>\n",
       "      <td>10.903158</td>\n",
       "      <td>0.346533</td>\n",
       "    </tr>\n",
       "    <tr>\n",
       "      <th>2010-01-11</th>\n",
       "      <td>11.276244</td>\n",
       "      <td>38699916.0</td>\n",
       "      <td>10.858016</td>\n",
       "      <td>10.958921</td>\n",
       "      <td>0.609419</td>\n",
       "    </tr>\n",
       "    <tr>\n",
       "      <th>2010-01-12</th>\n",
       "      <td>11.590913</td>\n",
       "      <td>39598644.0</td>\n",
       "      <td>11.276244</td>\n",
       "      <td>11.241724</td>\n",
       "      <td>0.533740</td>\n",
       "    </tr>\n",
       "    <tr>\n",
       "      <th>2010-01-13</th>\n",
       "      <td>11.598879</td>\n",
       "      <td>34996700.0</td>\n",
       "      <td>11.590913</td>\n",
       "      <td>11.488679</td>\n",
       "      <td>0.533740</td>\n",
       "    </tr>\n",
       "  </tbody>\n",
       "</table>\n",
       "</div>"
      ],
      "text/plain": [
       "                          $close     $volume  Ref($close, 1)  Mean($close, 3)  \\\n",
       "instrument datetime                                                             \n",
       "SH600655   2010-01-04  11.220483  38060176.0       10.885898        10.915109   \n",
       "           2010-01-08  10.858016  18646274.0       10.742505        10.903158   \n",
       "           2010-01-11  11.276244  38699916.0       10.858016        10.958921   \n",
       "           2010-01-12  11.590913  39598644.0       11.276244        11.241724   \n",
       "           2010-01-13  11.598879  34996700.0       11.590913        11.488679   \n",
       "\n",
       "                       $high-$low  \n",
       "instrument datetime                \n",
       "SH600655   2010-01-04    0.517807  \n",
       "           2010-01-08    0.346533  \n",
       "           2010-01-11    0.609419  \n",
       "           2010-01-12    0.533740  \n",
       "           2010-01-13    0.533740  "
      ]
     },
     "execution_count": 10,
     "metadata": {},
     "output_type": "execute_result"
    }
   ],
   "source": [
    "#测试\n",
    "#给定时间范围内某些股票池的加载特征\n",
    "nameDFilter = NameDFilter(name_rule_re='SH[0-9]{4}55')\n",
    "expressionDFilter = ExpressionDFilter(rule_expression='$close>Ref($close,1)')\n",
    "instruments = D.instruments(market='csi300', filter_pipe=[nameDFilter, expressionDFilter])\n",
    "fields = ['$close', '$volume', 'Ref($close, 1)', 'Mean($close, 3)', '$high-$low']\n",
    "D.features(instruments, fields, start_time='2010-01-01', end_time='2017-12-31', freq='day').head()"
   ]
  }
 ],
 "metadata": {
  "interpreter": {
   "hash": "5e08ab8c6dc06ba2ad438d78c6ae4c2e22ee0e2b36baab709ae2799a3d107522"
  },
  "kernelspec": {
   "display_name": "Python 3.8.12 64-bit ('qlib': conda)",
   "language": "python",
   "name": "python3"
  },
  "language_info": {
   "codemirror_mode": {
    "name": "ipython",
    "version": 3
   },
   "file_extension": ".py",
   "mimetype": "text/x-python",
   "name": "python",
   "nbconvert_exporter": "python",
   "pygments_lexer": "ipython3",
   "version": "3.8.12"
  },
  "orig_nbformat": 4
 },
 "nbformat": 4,
 "nbformat_minor": 2
}
